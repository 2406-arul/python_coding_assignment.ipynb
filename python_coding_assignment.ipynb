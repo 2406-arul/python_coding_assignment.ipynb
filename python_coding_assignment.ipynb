{
 "cells": [
  {
   "cell_type": "markdown",
   "id": "65a77dd0",
   "metadata": {},
   "source": [
    "# Fundamentals of Python Programming Assignment\n",
    "## Project for Certification\n",
    "This notebook contains solutions to 15 Python exercises covering operators, control structures, lists, dictionaries, and advanced topics."
   ]
  },
  {
   "cell_type": "markdown",
   "id": "204cea6a",
   "metadata": {},
   "source": [
    "## Section 1: Python Operators and Control Structures"
   ]
  },
  {
   "cell_type": "markdown",
   "id": "cdb05f5a",
   "metadata": {},
   "source": [
    "### Question 1: Sum of All Numbers in a List\n",
    "**Problem:** Write a Python program to calculate the sum of all numbers in a list using a for loop.\n",
    "\n",
    "**Sample Input:** `numbers = [1, 2, 3, 4, 5]`\n",
    "\n",
    "**Sample Output:** `15`"
   ]
  },
  {
   "cell_type": "code",
   "execution_count": null,
   "id": "0776ac32",
   "metadata": {},
   "outputs": [],
   "source": [
    "numbers = [1, 2, 3, 4, 5]\n",
    "total = 0\n",
    "for num in numbers:\n",
    "    total += num\n",
    "print(total)"
   ]
  },
  {
   "cell_type": "markdown",
   "id": "d14f3797",
   "metadata": {},
   "source": [
    "### Question 2: Power Operator\n",
    "**Problem:** What is the output of the following code?\n",
    "\n",
    "```python\n",
    "x = 5\n",
    "y = 2\n",
    "print(x ** y)\n",
    "```\n",
    "\n",
    "**Sample Output:** `25`"
   ]
  },
  {
   "cell_type": "code",
   "execution_count": null,
   "id": "56115e94",
   "metadata": {},
   "outputs": [],
   "source": [
    "x = 5\n",
    "y = 2\n",
    "print(x ** y)"
   ]
  },
  {
   "cell_type": "markdown",
   "id": "56b3e3cc",
   "metadata": {},
   "source": [
    "### Question 3: Palindrome Check\n",
    "**Problem:** Write a Python program to check if a number is a palindrome using a while loop.\n",
    "\n",
    "**Sample Input:** `num = 12321`\n",
    "\n",
    "**Sample Output:** `True`"
   ]
  },
  {
   "cell_type": "code",
   "execution_count": null,
   "id": "f9742c4b",
   "metadata": {},
   "outputs": [],
   "source": [
    "def is_palindrome(num):\n",
    "    original = str(num)\n",
    "    reversed_num = original[::-1]\n",
    "    return original == reversed_num\n",
    "\n",
    "num = 12321\n",
    "print(is_palindrome(num))"
   ]
  },
  {
   "cell_type": "markdown",
   "id": "5a9a9652",
   "metadata": {},
   "source": [
    "### Question 4: List Indexing\n",
    "**Problem:** What is the output of the following code?\n",
    "\n",
    "```python\n",
    "fruits = ['apple', 'banana', 'cherry']\n",
    "print(fruits[-1])\n",
    "```\n",
    "\n",
    "**Sample Output:** `cherry`"
   ]
  },
  {
   "cell_type": "code",
   "execution_count": null,
   "id": "36488213",
   "metadata": {},
   "outputs": [],
   "source": [
    "fruits = ['apple', 'banana', 'cherry']\n",
    "print(fruits[-1])"
   ]
  },
  {
   "cell_type": "markdown",
   "id": "dc1c9f37",
   "metadata": {},
   "source": [
    "### Question 5: Average of Numbers in a List\n",
    "**Problem:** Write a Python program to calculate the average of all numbers in a list using a for loop.\n",
    "\n",
    "**Sample Input:** `numbers = [1, 2, 3, 4, 5]`\n",
    "\n",
    "**Sample Output:** `3.0`"
   ]
  },
  {
   "cell_type": "code",
   "execution_count": null,
   "id": "c03b890f",
   "metadata": {},
   "outputs": [],
   "source": [
    "numbers = [1, 2, 3, 4, 5]\n",
    "total = sum(numbers)\n",
    "average = total / len(numbers)\n",
    "print(average)"
   ]
  },
  {
   "cell_type": "markdown",
   "id": "a403b848",
   "metadata": {},
   "source": [
    "## Section 2: Lists and Dictionaries"
   ]
  },
  {
   "cell_type": "markdown",
   "id": "d8ad4831",
   "metadata": {},
   "source": [
    "### Question 6: Dictionary of Students and Grades\n",
    "**Problem:** Write a Python program to create a dictionary with student names as keys and their grades as values.\n",
    "\n",
    "**Sample Input:** `students = ['John', 'Alice', 'Bob']`, `grades = [90, 85, 95]`\n",
    "\n",
    "**Sample Output:** `{'John': 90, 'Alice': 85, 'Bob': 95}`"
   ]
  },
  {
   "cell_type": "code",
   "execution_count": null,
   "id": "dfba2c1b",
   "metadata": {},
   "outputs": [],
   "source": [
    "students = ['John', 'Alice', 'Bob']\n",
    "grades = [90, 85, 95]\n",
    "student_grades = dict(zip(students, grades))\n",
    "print(student_grades)"
   ]
  },
  {
   "cell_type": "markdown",
   "id": "32872cd3",
   "metadata": {},
   "source": [
    "### Question 7: List Slicing\n",
    "**Problem:** What is the output of the following code?\n",
    "\n",
    "```python\n",
    "numbers = [1, 2, 3, 4, 5]\n",
    "print(numbers[1:3])\n",
    "```\n",
    "\n",
    "**Sample Output:** `[2, 3]`"
   ]
  },
  {
   "cell_type": "code",
   "execution_count": null,
   "id": "7912e8cc",
   "metadata": {},
   "outputs": [],
   "source": [
    "numbers = [1, 2, 3, 4, 5]\n",
    "print(numbers[1:3])"
   ]
  },
  {
   "cell_type": "markdown",
   "id": "c81c2e48",
   "metadata": {},
   "source": [
    "### Question 8: Sorting a List\n",
    "**Problem:** Write a Python program to sort a list of numbers in ascending order using the `sorted()` function.\n",
    "\n",
    "**Sample Input:** `numbers = [4, 2, 9, 6, 5]`\n",
    "\n",
    "**Sample Output:** `[2, 4, 5, 6, 9]`"
   ]
  },
  {
   "cell_type": "code",
   "execution_count": null,
   "id": "860b5741",
   "metadata": {},
   "outputs": [],
   "source": [
    "numbers = [4, 2, 9, 6, 5]\n",
    "sorted_numbers = sorted(numbers)\n",
    "print(sorted_numbers)"
   ]
  },
  {
   "cell_type": "markdown",
   "id": "be89fb40",
   "metadata": {},
   "source": [
    "### Question 9: Dictionary `.get()` Method\n",
    "**Problem:** What is the output of the following code?\n",
    "\n",
    "```python\n",
    "fruits = {'apple': 5, 'banana': 10, 'cherry': 15}\n",
    "print(fruits.get('banana'))\n",
    "```\n",
    "\n",
    "**Sample Output:** `10`"
   ]
  },
  {
   "cell_type": "code",
   "execution_count": null,
   "id": "a2d225b4",
   "metadata": {},
   "outputs": [],
   "source": [
    "fruits = {'apple': 5, 'banana': 10, 'cherry': 15}\n",
    "print(fruits.get('banana'))"
   ]
  },
  {
   "cell_type": "markdown",
   "id": "bfef4821",
   "metadata": {},
   "source": [
    "### Question 10: List Comprehension for Squares\n",
    "**Problem:** Write a Python program to create a list of squares of all numbers from 1 to 10 using list comprehension.\n",
    "\n",
    "**Sample Output:** `[1, 4, 9, 16, 25, 36, 49, 64, 81, 100]`"
   ]
  },
  {
   "cell_type": "code",
   "execution_count": null,
   "id": "240c8994",
   "metadata": {},
   "outputs": [],
   "source": [
    "squares = [x**2 for x in range(1, 11)]\n",
    "print(squares)"
   ]
  },
  {
   "cell_type": "markdown",
   "id": "5dc556c8",
   "metadata": {},
   "source": [
    "## Section 3: Advanced Topics"
   ]
  },
  {
   "cell_type": "markdown",
   "id": "b32b9cde",
   "metadata": {},
   "source": [
    "### Question 11: Factorial Using Recursion\n",
    "**Problem:** Write a Python program to calculate the factorial of a number using recursion.\n",
    "\n",
    "**Sample Input:** `num = 5`\n",
    "\n",
    "**Sample Output:** `120`"
   ]
  },
  {
   "cell_type": "code",
   "execution_count": null,
   "id": "554cee47",
   "metadata": {},
   "outputs": [],
   "source": [
    "def factorial(n):\n",
    "    if n == 0 or n == 1:\n",
    "        return 1\n",
    "    return n * factorial(n - 1)\n",
    "\n",
    "num = 5\n",
    "print(factorial(num))"
   ]
  },
  {
   "cell_type": "markdown",
   "id": "84e99b35",
   "metadata": {},
   "source": [
    "### Question 12: Reverse a List\n",
    "**Problem:** What is the output of the following code?\n",
    "\n",
    "```python\n",
    "numbers = [1, 2, 3, 4, 5]\n",
    "print(list(reversed(numbers)))\n",
    "```\n",
    "\n",
    "**Sample Output:** `[5, 4, 3, 2, 1]`"
   ]
  },
  {
   "cell_type": "code",
   "execution_count": null,
   "id": "83201dc9",
   "metadata": {},
   "outputs": [],
   "source": [
    "numbers = [1, 2, 3, 4, 5]\n",
    "print(list(reversed(numbers)))"
   ]
  },
  {
   "cell_type": "markdown",
   "id": "a504231a",
   "metadata": {},
   "source": [
    "### Question 13: Fibonacci Generator\n",
    "**Problem:** Write a Python program to create a generator that yields the Fibonacci sequence up to the nth term.\n",
    "\n",
    "**Sample Input:** `n = 10`\n",
    "\n",
    "**Sample Output:** `[0, 1, 1, 2, 3, 5, 8, 13, 21, 34]`"
   ]
  },
  {
   "cell_type": "code",
   "execution_count": null,
   "id": "a72dfff1",
   "metadata": {},
   "outputs": [],
   "source": [
    "def fibonacci(n):\n",
    "    a, b = 0, 1\n",
    "    for _ in range(n):\n",
    "        yield a\n",
    "        a, b = b, a + b\n",
    "\n",
    "print(list(fibonacci(10)))"
   ]
  },
  {
   "cell_type": "markdown",
   "id": "4e8141ef",
   "metadata": {},
   "source": [
    "### Question 14: Importing `math.pi`\n",
    "**Problem:** What is the output of the following code?\n",
    "\n",
    "```python\n",
    "import math\n",
    "print(math.pi)\n",
    "```\n",
    "\n",
    "**Sample Output:** `3.14159...`"
   ]
  },
  {
   "cell_type": "code",
   "execution_count": null,
   "id": "85e0d306",
   "metadata": {},
   "outputs": [],
   "source": [
    "import math\n",
    "print(math.pi)"
   ]
  },
  {
   "cell_type": "markdown",
   "id": "efd65819",
   "metadata": {},
   "source": [
    "### Question 15: Inverted Star Pyramid\n",
    "**Problem:** Write a Python program to print the inverted star pyramid of height 5.\n"
   ]
  },
  {
   "cell_type": "code",
   "execution_count": null,
   "id": "8088c050",
   "metadata": {},
   "outputs": [],
   "source": [
    "for i in range(5, 0, -1):\n",
    "    print(' ' * (5 - i) + '*' * (2 * i - 1))"
   ]
  }
 ],
 "metadata": {},
 "nbformat": 4,
 "nbformat_minor": 5
}